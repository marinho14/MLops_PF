{
 "cells": [
  {
   "cell_type": "code",
   "execution_count": 11,
   "id": "9e66cda3-00af-4209-b639-7c1f3c6771d5",
   "metadata": {
    "tags": []
   },
   "outputs": [],
   "source": [
    "import os\n",
    "import mlflow\n",
    "import requests\n",
    "import numpy as np\n",
    "import pandas as pd\n",
    "import mysql.connector\n",
    "import joblib\n",
    "import sys\n",
    "import shap\n",
    "\n",
    "from category_encoders import TargetEncoder\n",
    "from sklearn.compose import make_column_transformer, ColumnTransformer\n",
    "from sklearn.ensemble import RandomForestRegressor\n",
    "from sklearn.impute import SimpleImputer\n",
    "from sklearn.linear_model import ElasticNet\n",
    "from sklearn.metrics import mean_squared_error, mean_absolute_error, r2_score\n",
    "from sklearn.model_selection import train_test_split, GridSearchCV\n",
    "from sklearn.pipeline import Pipeline\n",
    "from sklearn.preprocessing import StandardScaler\n",
    "from sklearn.tree import DecisionTreeRegressor\n",
    "from scipy.stats import ks_2samp"
   ]
  },
  {
   "cell_type": "code",
   "execution_count": 2,
   "id": "1eca24cf-f301-4484-b362-54761ef299e3",
   "metadata": {
    "tags": []
   },
   "outputs": [],
   "source": [
    "def perform_distribution_test(df, column, batch_num1, batch_num2):\n",
    "    sample1 = df[df[\"batch_number\"] == batch_num1][column]\n",
    "    sample2 = df[df[\"batch_number\"] == batch_num2][column]\n",
    "    _, p_value = ks_2samp(sample1, sample2)\n",
    "    return p_value"
   ]
  },
  {
   "cell_type": "code",
   "execution_count": 3,
   "id": "087c05d2-ac26-4ec5-a174-9e9b9dd393e4",
   "metadata": {
    "tags": []
   },
   "outputs": [
    {
     "name": "stderr",
     "output_type": "stream",
     "text": [
      "/tmp/ipykernel_2059/882598713.py:23: UserWarning: pandas only supports SQLAlchemy connectable (engine/connection) or database string URI or sqlite3 DBAPI2 connection. Other DBAPI2 objects are not tested. Please consider using SQLAlchemy.\n",
      "  df = pd.read_sql(query, con=conn)\n"
     ]
    }
   ],
   "source": [
    "conn = mysql.connector.connect(\n",
    "    host=\"mysql\",\n",
    "    user=\"airflow\",\n",
    "    password=\"airflow\",\n",
    "    database=\"airflow\"\n",
    ")\n",
    "\n",
    "query = \"\"\"\n",
    "        WITH all_data AS (\n",
    "            SELECT *,\n",
    "            MAX(batch_number) OVER () AS last_batch_number\n",
    "            FROM clean_data\n",
    "        )\n",
    "        , last_two_batch AS (\n",
    "            SELECT last_batch_number, (last_batch_number - 1) AS previous_batch_number FROM all_data\n",
    "        )\n",
    "        SELECT\n",
    "            *\n",
    "        FROM all_data\n",
    "        WHERE batch_number IN (SELECT last_batch_number FROM last_two_batch)\n",
    "        OR batch_number IN (SELECT previous_batch_number FROM last_two_batch);\n",
    "        \"\"\"\n",
    "df = pd.read_sql(query, con=conn)\n",
    "conn.close()"
   ]
  },
  {
   "cell_type": "code",
   "execution_count": 4,
   "id": "3c385c71-847b-4666-b5f2-be2325361cd3",
   "metadata": {
    "tags": []
   },
   "outputs": [],
   "source": [
    "MAX_BATCH_NUMBER = max(df[\"batch_number\"])\n",
    "PREVIOUS_MAX_BATCH_NUMBER = MAX_BATCH_NUMBER - 1\n",
    "\n",
    "CATEGORICAL_FEATURES = [\"brokered_by\",\n",
    "                        \"status\",\n",
    "                        \"street\",\n",
    "                        \"city\",\n",
    "                        \"state\",\n",
    "                        \"zip_code\",\n",
    "                        \"prev_sold_date\"]\n",
    "\n",
    "NUMERICAL_FEATURES = [\"bed\",\n",
    "                      \"bath\",\n",
    "                      \"acre_lot\",\n",
    "                      \"house_size\"]\n",
    "\n",
    "ALL_FEATURES = CATEGORICAL_FEATURES + NUMERICAL_FEATURES\n",
    "\n",
    "TARGET = \"price\""
   ]
  },
  {
   "cell_type": "code",
   "execution_count": 5,
   "id": "84b6b843-ddf6-43b7-8152-106f870bb869",
   "metadata": {
    "tags": []
   },
   "outputs": [
    {
     "name": "stdout",
     "output_type": "stream",
     "text": [
      "Column 'bed' has a significant difference in distribution.\n"
     ]
    }
   ],
   "source": [
    "# Calculate sizes of the batches\n",
    "size_current = len(df[df[\"batch_number\"] == MAX_BATCH_NUMBER])\n",
    "size_previous = len(df[df[\"batch_number\"] == PREVIOUS_MAX_BATCH_NUMBER])\n",
    "\n",
    "# Initialize a flag to check if any p_value is less than 0.05\n",
    "significant_difference = False\n",
    "\n",
    "# Condition 1\n",
    "if MAX_BATCH_NUMBER == 1:\n",
    "    # Continue with the rest of the notebook\n",
    "    pass\n",
    "# Condition 2\n",
    "elif size_current >= 0.1 * size_previous:\n",
    "    # Perform distribution difference test for NUMERICAL_NUMBERS\n",
    "    for column in NUMERICAL_FEATURES:\n",
    "        p_value = perform_distribution_test(df, column, MAX_BATCH_NUMBER, PREVIOUS_MAX_BATCH_NUMBER)\n",
    "        if p_value < 0.05:  # Assuming significance level of 0.05\n",
    "            # At least one column has a significant difference in distribution\n",
    "            # Print the column name\n",
    "            print(f\"Column '{column}' has a significant difference in distribution.\")\n",
    "            # Set the flag to True\n",
    "            significant_difference = True\n",
    "            # No further testing needed, break out of the loop\n",
    "            break\n",
    "\n",
    "# If no significant difference, stop the execution of the notebook\n",
    "if not significant_difference:\n",
    "    raise SystemExit()"
   ]
  },
  {
   "cell_type": "code",
   "execution_count": 23,
   "id": "c80e8e66-59ee-4e46-8530-9aa3abaf48ff",
   "metadata": {
    "tags": []
   },
   "outputs": [],
   "source": [
    "all_df = df[df[\"batch_number\"] == MAX_BATCH_NUMBER]\n",
    "\n",
    "# Set the target values\n",
    "y = all_df['price']#.values\n",
    "\n",
    "# Set the input values\n",
    "X = all_df[ALL_FEATURES]\n",
    "\n",
    "X_train, X_test, y_train, y_test = train_test_split(X, y)"
   ]
  },
  {
   "cell_type": "code",
   "execution_count": 24,
   "id": "8b459d94-f708-4ce4-8511-b8ab387daabf",
   "metadata": {
    "tags": []
   },
   "outputs": [],
   "source": [
    "# Define preprocessing steps for categorical variables\n",
    "categorical_transformer = Pipeline(steps=[\n",
    "    ('imputer', SimpleImputer(strategy='most_frequent')),  # Impute with mode\n",
    "    ('target_encoder', TargetEncoder())  # Target encoding\n",
    "])\n",
    "\n",
    "# Define preprocessing steps for numerical variables\n",
    "numerical_transformer = Pipeline(steps=[\n",
    "    ('imputer', SimpleImputer(strategy='median')),  # Impute with median\n",
    "    ('scaler', StandardScaler())  # StandardScaler\n",
    "])\n",
    "\n",
    "# Combine preprocessing steps for both categorical and numerical features\n",
    "preprocessor = ColumnTransformer(\n",
    "    transformers=[\n",
    "        ('cat', categorical_transformer, CATEGORICAL_FEATURES),\n",
    "        ('num', numerical_transformer, NUMERICAL_FEATURES)\n",
    "    ])\n",
    "\n",
    "# Create the pipeline\n",
    "pipeline = Pipeline(steps=[\n",
    "    ('preprocessor', preprocessor)\n",
    "])\n",
    "\n",
    "# Fit and transform the data\n",
    "X_train_preprocessed = pipeline.fit_transform(X_train, y_train)\n",
    "X_test_preprocessed = pipeline.transform(X_test)"
   ]
  },
  {
   "cell_type": "code",
   "execution_count": 28,
   "id": "4a1f0fbd-9d64-4444-a491-59229203c7de",
   "metadata": {
    "tags": []
   },
   "outputs": [
    {
     "name": "stdout",
     "output_type": "stream",
     "text": [
      "Best model: DecisionTreeRegressor()\n"
     ]
    }
   ],
   "source": [
    "# Train ElasticNet model with default parameters\n",
    "elasticnet_model = ElasticNet()\n",
    "elasticnet_model.fit(X_train_preprocessed, y_train)\n",
    "elasticnet_y_pred = elasticnet_model.predict(X_test_preprocessed)\n",
    "elasticnet_mae = mean_absolute_error(y_test, elasticnet_y_pred)\n",
    "\n",
    "# Train DecisionTreeRegressor model with default parameters\n",
    "decisiontree_model = DecisionTreeRegressor()\n",
    "decisiontree_model.fit(X_train_preprocessed, y_train)\n",
    "decisiontree_y_pred = decisiontree_model.predict(X_test_preprocessed)\n",
    "decisiontree_mae = mean_absolute_error(y_test, decisiontree_y_pred)\n",
    "\n",
    "# Train RandomForestRegressor model with default parameters\n",
    "randomforest_model = RandomForestRegressor()\n",
    "randomforest_model.fit(X_train_preprocessed, y_train)\n",
    "randomforest_y_pred = randomforest_model.predict(X_test_preprocessed)\n",
    "randomforest_mae = mean_absolute_error(y_test, randomforest_y_pred)\n",
    "\n",
    "# Choose the model with the lowest MAE\n",
    "best_model = None\n",
    "if elasticnet_mae <= decisiontree_mae and elasticnet_mae <= randomforest_mae:\n",
    "    best_model = elasticnet_model\n",
    "elif decisiontree_mae <= elasticnet_mae and decisiontree_mae <= randomforest_mae:\n",
    "    best_model = decisiontree_model\n",
    "else:\n",
    "    best_model = randomforest_model\n",
    "\n",
    "print(\"Best model:\", best_model)"
   ]
  },
  {
   "cell_type": "code",
   "execution_count": 29,
   "id": "5e85bcd5-2cf0-4473-9649-90488bd0e822",
   "metadata": {
    "tags": []
   },
   "outputs": [
    {
     "data": {
      "text/html": [
       "<style>#sk-container-id-1 {color: black;background-color: white;}#sk-container-id-1 pre{padding: 0;}#sk-container-id-1 div.sk-toggleable {background-color: white;}#sk-container-id-1 label.sk-toggleable__label {cursor: pointer;display: block;width: 100%;margin-bottom: 0;padding: 0.3em;box-sizing: border-box;text-align: center;}#sk-container-id-1 label.sk-toggleable__label-arrow:before {content: \"▸\";float: left;margin-right: 0.25em;color: #696969;}#sk-container-id-1 label.sk-toggleable__label-arrow:hover:before {color: black;}#sk-container-id-1 div.sk-estimator:hover label.sk-toggleable__label-arrow:before {color: black;}#sk-container-id-1 div.sk-toggleable__content {max-height: 0;max-width: 0;overflow: hidden;text-align: left;background-color: #f0f8ff;}#sk-container-id-1 div.sk-toggleable__content pre {margin: 0.2em;color: black;border-radius: 0.25em;background-color: #f0f8ff;}#sk-container-id-1 input.sk-toggleable__control:checked~div.sk-toggleable__content {max-height: 200px;max-width: 100%;overflow: auto;}#sk-container-id-1 input.sk-toggleable__control:checked~label.sk-toggleable__label-arrow:before {content: \"▾\";}#sk-container-id-1 div.sk-estimator input.sk-toggleable__control:checked~label.sk-toggleable__label {background-color: #d4ebff;}#sk-container-id-1 div.sk-label input.sk-toggleable__control:checked~label.sk-toggleable__label {background-color: #d4ebff;}#sk-container-id-1 input.sk-hidden--visually {border: 0;clip: rect(1px 1px 1px 1px);clip: rect(1px, 1px, 1px, 1px);height: 1px;margin: -1px;overflow: hidden;padding: 0;position: absolute;width: 1px;}#sk-container-id-1 div.sk-estimator {font-family: monospace;background-color: #f0f8ff;border: 1px dotted black;border-radius: 0.25em;box-sizing: border-box;margin-bottom: 0.5em;}#sk-container-id-1 div.sk-estimator:hover {background-color: #d4ebff;}#sk-container-id-1 div.sk-parallel-item::after {content: \"\";width: 100%;border-bottom: 1px solid gray;flex-grow: 1;}#sk-container-id-1 div.sk-label:hover label.sk-toggleable__label {background-color: #d4ebff;}#sk-container-id-1 div.sk-serial::before {content: \"\";position: absolute;border-left: 1px solid gray;box-sizing: border-box;top: 0;bottom: 0;left: 50%;z-index: 0;}#sk-container-id-1 div.sk-serial {display: flex;flex-direction: column;align-items: center;background-color: white;padding-right: 0.2em;padding-left: 0.2em;position: relative;}#sk-container-id-1 div.sk-item {position: relative;z-index: 1;}#sk-container-id-1 div.sk-parallel {display: flex;align-items: stretch;justify-content: center;background-color: white;position: relative;}#sk-container-id-1 div.sk-item::before, #sk-container-id-1 div.sk-parallel-item::before {content: \"\";position: absolute;border-left: 1px solid gray;box-sizing: border-box;top: 0;bottom: 0;left: 50%;z-index: -1;}#sk-container-id-1 div.sk-parallel-item {display: flex;flex-direction: column;z-index: 1;position: relative;background-color: white;}#sk-container-id-1 div.sk-parallel-item:first-child::after {align-self: flex-end;width: 50%;}#sk-container-id-1 div.sk-parallel-item:last-child::after {align-self: flex-start;width: 50%;}#sk-container-id-1 div.sk-parallel-item:only-child::after {width: 0;}#sk-container-id-1 div.sk-dashed-wrapped {border: 1px dashed gray;margin: 0 0.4em 0.5em 0.4em;box-sizing: border-box;padding-bottom: 0.4em;background-color: white;}#sk-container-id-1 div.sk-label label {font-family: monospace;font-weight: bold;display: inline-block;line-height: 1.2em;}#sk-container-id-1 div.sk-label-container {text-align: center;}#sk-container-id-1 div.sk-container {/* jupyter's `normalize.less` sets `[hidden] { display: none; }` but bootstrap.min.css set `[hidden] { display: none !important; }` so we also need the `!important` here to be able to override the default hidden behavior on the sphinx rendered scikit-learn.org. See: https://github.com/scikit-learn/scikit-learn/issues/21755 */display: inline-block !important;position: relative;}#sk-container-id-1 div.sk-text-repr-fallback {display: none;}</style><div id=\"sk-container-id-1\" class=\"sk-top-container\"><div class=\"sk-text-repr-fallback\"><pre>DecisionTreeRegressor()</pre><b>In a Jupyter environment, please rerun this cell to show the HTML representation or trust the notebook. <br />On GitHub, the HTML representation is unable to render, please try loading this page with nbviewer.org.</b></div><div class=\"sk-container\" hidden><div class=\"sk-item\"><div class=\"sk-estimator sk-toggleable\"><input class=\"sk-toggleable__control sk-hidden--visually\" id=\"sk-estimator-id-1\" type=\"checkbox\" checked><label for=\"sk-estimator-id-1\" class=\"sk-toggleable__label sk-toggleable__label-arrow\">DecisionTreeRegressor</label><div class=\"sk-toggleable__content\"><pre>DecisionTreeRegressor()</pre></div></div></div></div></div>"
      ],
      "text/plain": [
       "DecisionTreeRegressor()"
      ]
     },
     "execution_count": 29,
     "metadata": {},
     "output_type": "execute_result"
    }
   ],
   "source": [
    "# Retrain the best model on the entire training data\n",
    "best_model.fit(X_train_preprocessed, y_train)"
   ]
  },
  {
   "cell_type": "code",
   "execution_count": null,
   "id": "7e8f7ed8-4805-4ea5-8da6-0fabbbfdaefb",
   "metadata": {},
   "outputs": [],
   "source": []
  }
 ],
 "metadata": {
  "kernelspec": {
   "display_name": "Python 3 (ipykernel)",
   "language": "python",
   "name": "python3"
  },
  "language_info": {
   "codemirror_mode": {
    "name": "ipython",
    "version": 3
   },
   "file_extension": ".py",
   "mimetype": "text/x-python",
   "name": "python",
   "nbconvert_exporter": "python",
   "pygments_lexer": "ipython3",
   "version": "3.9.19"
  }
 },
 "nbformat": 4,
 "nbformat_minor": 5
}
